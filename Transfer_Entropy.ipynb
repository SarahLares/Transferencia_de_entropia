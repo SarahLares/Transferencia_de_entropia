{
 "cells": [
  {
   "cell_type": "markdown",
   "metadata": {},
   "source": [
    "# Pruebas \n",
    "## Octubre 2018\n",
    "\n"
   ]
  },
  {
   "cell_type": "markdown",
   "metadata": {},
   "source": [
    "En este trabajo se analizarán los resultados obtenidos al variar los parámetros de acople de un sistema de dos funciones que se encuentran correlacionadas, con la finalidad de estudiar el efecto de estas variaciones sobre la información mutua y la transferencia de entropía.\n",
    "\n",
    "Para esto se obtendrán series de tiempo a partir de dos mapas como el logístico y el triangular (Skew Tent Maps), las cuales serán llamadas $f$ y $g$. \n",
    "\n",
    "Siendo $f$ el mapa logístico:"
   ]
  },
  {
   "cell_type": "markdown",
   "metadata": {},
   "source": [
    "$$f(x_{i})=r x_{i}(1-x_i)$$"
   ]
  },
  {
   "cell_type": "code",
   "execution_count": 45,
   "metadata": {},
   "outputs": [
    {
     "data": {
      "image/png": "[encoded data removed]",
      "text/plain": [
       "<Figure size 432x288 with 1 Axes>"
      ]
     },
     "metadata": {
      "needs_background": "light"
     },
     "output_type": "display_data"
    }
   ],
   "source": [
    "import numpy as np\n",
    "from pylab import *\n",
    "\n",
    "def f(x, r):\n",
    "    return r*x*(1-x)\n",
    "\n",
    "N = 1500 \n",
    "r = 3.99\n",
    "\n",
    "i=np.random.random_sample()\n",
    "x=np.zeros((N+1,))\n",
    "x[0]=i\n",
    "b=np.zeros((N+1,))\n",
    " \n",
    "for n in range(0,N):\n",
    "    x[n+1]=f(x[n],r)\n",
    "    \n",
    "for i in range(len(x)):    \n",
    "    b[i]=f(x[i], r)\n",
    "    \n",
    "xlabel('$x_{n+1}$',fontsize=20)\n",
    "ylabel('$x$',fontsize=20)\n",
    "title('Mapa de poincaré para el mapa logistico con r= ' + str(r) + '\\n',fontsize=22)\n",
    "plot(x,b,',c',linewidth=0.1)\n",
    "show()"
   ]
  },
  {
   "cell_type": "markdown",
   "metadata": {},
   "source": [
    "EL mapa logístico puede interpretarse como un modelo de población en un sistema en el que los recursos son\n",
    "limitados.  El crecimiento exponencial dado por la parte $f(x_{i}) = r x_i$ resulta limitado por la no linealidad \n",
    "$-r x_{i}^{2}$ , que representa la competencia entre los individuos por los recursos compartidos.\n",
    "\n",
    "\n",
    "$x_i$  debe estar dentro de $0\\leq x \\leq 1$ siendo 1 el máximo posible de la población y 0 siendo extinción. $r$ representa la fertilidad de la población.\n",
    "\n",
    "El valor de $r$ dentro del mapa Logístico\n",
    "debe cumplir el parámetro $0 \\leq r\\leq 4$ para garantizar que la salida de la función se mantenga dentro de $[0,1]$.\n",
    "\n",
    "Según el valor que se le adjudique a $r$, se observán diferentes comportamientos en la función.\n",
    "\n",
    "En todas las pruebas realizadas se utilizó $r=3.99$, ya que a partir de $r=3.90$ la función tiene un comportamiento caótico.\n",
    "\n"
   ]
  },
  {
   "cell_type": "markdown",
   "metadata": {},
   "source": [
    "Y siendo $g$ el mapa triangular:"
   ]
  },
  {
   "cell_type": "markdown",
   "metadata": {},
   "source": [
    "$$g(x_{i})=\\left \\{  {{x_{i} \\ \\over a}  \\ \\ \\ \\  \\mbox {si } 0 \\leq x_{i}  \\leq a} \\atop {{{r-x_{i}} \\over {1-a}}      \\ \\ \\mbox{si } a< x_{i} \\leq 1 } \\right . $$"
   ]
  },
  {
   "cell_type": "code",
   "execution_count": 44,
   "metadata": {},
   "outputs": [
    {
     "data": {
      "image/png": "[encoded data removed]",
      "text/plain": [
       "<Figure size 432x288 with 1 Axes>"
      ]
     },
     "metadata": {
      "needs_background": "light"
     },
     "output_type": "display_data"
    }
   ],
   "source": [
    "import numpy as np\n",
    "from pylab import *\n",
    "\n",
    "def g(x,a):\n",
    "    if 0<=x and x<=a:\n",
    "        return (x/a)\n",
    "    elif a<x and x<=1:\n",
    "        return ((1-x)/(1-a))\n",
    "    \n",
    "N = 1500 \n",
    "a = 0.5\n",
    "\n",
    "i=np.random.random_sample()\n",
    "x=np.zeros((N+1,))\n",
    "x[0]=i\n",
    "b=np.zeros((N+1,))\n",
    " \n",
    "for n in range(0,N):\n",
    "    x[n+1]=g(x[n],a)\n",
    "    \n",
    "for i in range(len(x)):    \n",
    "    b[i]=g(x[i], a)\n",
    "    \n",
    "xlabel('$x_{n+1}$',fontsize=20)\n",
    "ylabel('$x$',fontsize=20)\n",
    "title('Mapa de poincaré para el mapa logistico con a= ' + str(a) + '\\n',fontsize=22)\n",
    "plot(x,b,'.b',linewidth=0.1)\n",
    "show()"
   ]
  },
  {
   "cell_type": "raw",
   "metadata": {},
   "source": []
  },
  {
   "cell_type": "markdown",
   "metadata": {},
   "source": [
    "Cabe destacar que se utilizarán dos tipos de acoples diferentes, llamaremos el acople 1 al presentado por M. Hasler y Y-L. Maistrenko. en el trabajo titulado \"An Introduction to the Synchronization of Chaotic Systems: Coupled Skew Tent Maps. IEEE Transactions on Circuits and Systems : Fundamental Theory and Applications\""
   ]
  },
  {
   "cell_type": "markdown",
   "metadata": {},
   "source": [
    " $$x(t+1)=f( \\ x(t) \\ +\\mu  \\ ( \\ y(t) \\ - \\ x(t) \\ ) \\ )$$\n",
    "$$y(t+1)=g( \\ y(t) \\ + \\ \\epsilon \\  ( \\ x(t) \\ - \\ y(t) \\ ) \\ )$$"
   ]
  },
  {
   "cell_type": "markdown",
   "metadata": {},
   "source": [
    "y llamaremos acople 2 al planteado por Jalan, S. y Amritkar en un trabajo titulado \"Self-organized and driven phase synchronization in coupled maps\". "
   ]
  },
  {
   "cell_type": "markdown",
   "metadata": {},
   "source": [
    "$$x(t+1)=(1-\\epsilon) \\ f \\ ( \\ x(t)) \\ + \\ \\epsilon \\ f(y(t) \\ )$$ \n",
    "$$y(t+1)=(1-\\mu) \\ g \\ ( \\ y(t)) \\ + \\ \\mu \\ g(x(t) \\  )$$"
   ]
  },
  {
   "cell_type": "markdown",
   "metadata": {},
   "source": [
    "A partir de las series temporales luego de un transiente de 500 puntos se tomaron $N$ datos de ambos mapas los cuales eran valores continuos. Para poder calcular la información mutua y la transferencia de entropía a partir de estas series se construyeron versiones simbólicas de estas series temporales utilizando dos criterios diferentes."
   ]
  },
  {
   "cell_type": "markdown",
   "metadata": {},
   "source": [
    "La primera forma para hallar esta representación simbólica fue mediante la introducción de particiones, esto es, una  una división del espacio de estados $S$ (conjunto de todos los estados accesibles del sistema) en $M$ conjuntos ($s_1,s_2,s_3,...,s_M$).\n",
    "\n",
    "Una vez efectuada la partición, los símbolos de la evolucón del sistema\n",
    "\n",
    "$$x_1,x_2,x_3,...,x_N$$\n",
    "\n",
    "Pueden ser representados por una secuencia\n",
    "\n",
    "$$  \\sigma_1,\\sigma_2,...,\\sigma_N \\ \\  con  \\ \\ \\sigma_i \\in S$$\n",
    "\n",
    "Esto quiere decir que a cada valor de la serie temporal $x_i$ se le asignará un valor según su valor en la nueva representación. Aquí, los símbolos son asignados de acuerdo con:\n",
    "$$x_i \\to s_i \\ \\ si \\ \\  x_i \\in S_i$$."
   ]
  },
  {
   "cell_type": "markdown",
   "metadata": {},
   "source": [
    "Por ejemplo para 4 particiones se obtiene lo siguiente:\n",
    " $$S(x)=\\left\\{ \\begin{array} {lcc} {{s_1=0} \\ \\ \\mbox {para} \\ \\ \\ \\ \\ \\ \\ \\ \\ \\ \\ \\ \\ \\ \\ \\ \\ \\ x \\leq 0.25} \\\\ {{s_2=1} \\ \\  \\mbox{para} \\ \\ \\ \\ \\ \\ 0.25< x \\leq 0.5 }  \\\\ {{s_3=2} \\ \\ \\mbox{para} \\ \\ \\ \\ \\ \\ \\ \\ 0.5< x \\leq 0.75 }  \\\\ {{s_4=3} \\ \\ \\mbox{para} \\ \\ \\ \\ \\ \\ 0.75< x \\leq 1 } \\end{array} \\right . $$"
   ]
  },
  {
   "cell_type": "markdown",
   "metadata": {},
   "source": [
    "El segundo método que se introdujo para hallar la representación simbólica de las series temporales fue el de los bins, para esto, se debe realizar una partición binaria a la serie temporal. Esto puede ser expresado con la función de Heaviside:\n",
    "\n",
    "$$\\Theta(x)=\\left\\{ \\begin{array} {lcc} {{s_1=0} \\ \\ \\mbox {para} \\ \\ \\ \\  \\ \\ \\ \\  \\ \\ \\ \\ \\ \\ x \\leq 0.5} \\\\ {{s_2=1} \\ \\ \\mbox{para} \\ \\ \\ \\ 0.5< x \\leq 1 }   \\end{array} \\right .$$\n",
    "\n",
    "A partir de estas nuevas series binarias se fue variando el numero de compartimientos y hallando para cada retícula el valor real de esta. Por ejemplo, si luego de la partición se obtuvo la siguiente serie binaria:\n",
    "\n",
    "$$|0|0|0|1|1|0|1|1|0|1|$$\n",
    " y tomamos las retículas de 5 dígitos obtenemos:\n",
    " $$|0|0|0|1|1| \\ \\ y \\ \\ |0|1|1|0|1|$$\n",
    " estos numeros binarios corresponderán en la nueva serie temporal a los números\n",
    " $$3 \\ \\ y \\ \\ 13$$."
   ]
  },
  {
   "cell_type": "markdown",
   "metadata": {},
   "source": [
    "Tomando en cuenta que para realizar la conversión de binario a decimal, debe realizarse lo siguiente:\n",
    "1.  Del derecho del número en binario se multiplica cada dígito por 2 elevado a la potencia consecutiva (comenzando por la potencia 0, $2^0$).\n",
    "2. Después de realizar cada una de las multiplicaciones, se súman todos los valores y el número resultante será el equivalente al sistema decimal.\n",
    "\n",
    "Con estas nuevas series temporales se procedió a calcular la información mutua y la transferencia de entropía variando los valores de particiones y de los bins."
   ]
  }
 ],
 "metadata": {
  "kernelspec": {
   "display_name": "Python 3",
   "language": "python",
   "name": "python3"
  },
  "language_info": {
   "codemirror_mode": {
    "name": "ipython",
    "version": 3
   },
   "file_extension": ".py",
   "mimetype": "text/x-python",
   "name": "python",
   "nbconvert_exporter": "python",
   "pygments_lexer": "ipython3",
   "version": "3.6.6"
  }
 },
 "nbformat": 4,
 "nbformat_minor": 2
}
